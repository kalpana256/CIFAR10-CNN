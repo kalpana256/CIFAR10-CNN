{
  "nbformat": 4,
  "nbformat_minor": 0,
  "metadata": {
    "accelerator": "GPU",
    "colab": {
      "name": "CIFAR10 .ipynb",
      "provenance": [],
      "collapsed_sections": [],
      "toc_visible": true,
      "include_colab_link": true
    },
    "kernelspec": {
      "display_name": "Python 3",
      "language": "python",
      "name": "python3"
    },
    "language_info": {
      "codemirror_mode": {
        "name": "ipython",
        "version": 3
      },
      "file_extension": ".py",
      "mimetype": "text/x-python",
      "name": "python",
      "nbconvert_exporter": "python",
      "pygments_lexer": "ipython3",
      "version": "3.8.3"
    }
  },
  "cells": [
    {
      "cell_type": "markdown",
      "metadata": {
        "id": "view-in-github",
        "colab_type": "text"
      },
      "source": [
        "<a href=\"https://colab.research.google.com/github/kalpana256/CIFAR10-Image_Classification/blob/main/CIFAR10_.ipynb\" target=\"_parent\"><img src=\"https://colab.research.google.com/assets/colab-badge.svg\" alt=\"Open In Colab\"/></a>"
      ]
    },
    {
      "cell_type": "code",
      "metadata": {
        "colab": {
          "base_uri": "https://localhost:8080/"
        },
        "id": "pToxK6upo51j",
        "outputId": "9849fa98-0bfe-4c05-f638-c19fa63aa0dc"
      },
      "source": [
        "!pip install tensorflow-gpu==2.0.0-rc0"
      ],
      "execution_count": null,
      "outputs": [
        {
          "output_type": "stream",
          "text": [
            "Collecting tensorflow-gpu==2.0.0-rc0\n",
            "\u001b[?25l  Downloading https://files.pythonhosted.org/packages/3b/ac/dc53e7ba3163d8c5e1faa78e875672d66e4c874c1fbc06429a388cc51503/tensorflow_gpu-2.0.0rc0-cp37-cp37m-manylinux2010_x86_64.whl (380.5MB)\n",
            "\u001b[K     |████████████████████████████████| 380.5MB 43kB/s \n",
            "\u001b[?25hRequirement already satisfied: numpy<2.0,>=1.16.0 in /usr/local/lib/python3.7/dist-packages (from tensorflow-gpu==2.0.0-rc0) (1.19.5)\n",
            "Collecting tb-nightly<1.15.0a20190807,>=1.15.0a20190806\n",
            "\u001b[?25l  Downloading https://files.pythonhosted.org/packages/bc/88/24b5fb7280e74c7cf65bde47c171547fd02afb3840cff41bcbe9270650f5/tb_nightly-1.15.0a20190806-py3-none-any.whl (4.3MB)\n",
            "\u001b[K     |████████████████████████████████| 4.3MB 50.8MB/s \n",
            "\u001b[?25hCollecting tf-estimator-nightly<1.14.0.dev2019080602,>=1.14.0.dev2019080601\n",
            "\u001b[?25l  Downloading https://files.pythonhosted.org/packages/21/28/f2a27a62943d5f041e4a6fd404b2d21cb7c59b2242a4e73b03d9ba166552/tf_estimator_nightly-1.14.0.dev2019080601-py2.py3-none-any.whl (501kB)\n",
            "\u001b[K     |████████████████████████████████| 501kB 54.5MB/s \n",
            "\u001b[?25hRequirement already satisfied: six>=1.10.0 in /usr/local/lib/python3.7/dist-packages (from tensorflow-gpu==2.0.0-rc0) (1.15.0)\n",
            "Requirement already satisfied: google-pasta>=0.1.6 in /usr/local/lib/python3.7/dist-packages (from tensorflow-gpu==2.0.0-rc0) (0.2.0)\n",
            "Requirement already satisfied: protobuf>=3.6.1 in /usr/local/lib/python3.7/dist-packages (from tensorflow-gpu==2.0.0-rc0) (3.12.4)\n",
            "Requirement already satisfied: wrapt>=1.11.1 in /usr/local/lib/python3.7/dist-packages (from tensorflow-gpu==2.0.0-rc0) (1.12.1)\n",
            "Requirement already satisfied: astor>=0.6.0 in /usr/local/lib/python3.7/dist-packages (from tensorflow-gpu==2.0.0-rc0) (0.8.1)\n",
            "Requirement already satisfied: gast>=0.2.0 in /usr/local/lib/python3.7/dist-packages (from tensorflow-gpu==2.0.0-rc0) (0.4.0)\n",
            "Requirement already satisfied: absl-py>=0.7.0 in /usr/local/lib/python3.7/dist-packages (from tensorflow-gpu==2.0.0-rc0) (0.12.0)\n",
            "Requirement already satisfied: termcolor>=1.1.0 in /usr/local/lib/python3.7/dist-packages (from tensorflow-gpu==2.0.0-rc0) (1.1.0)\n",
            "Requirement already satisfied: grpcio>=1.8.6 in /usr/local/lib/python3.7/dist-packages (from tensorflow-gpu==2.0.0-rc0) (1.34.1)\n",
            "Requirement already satisfied: wheel>=0.26 in /usr/local/lib/python3.7/dist-packages (from tensorflow-gpu==2.0.0-rc0) (0.36.2)\n",
            "Collecting keras-applications>=1.0.8\n",
            "\u001b[?25l  Downloading https://files.pythonhosted.org/packages/71/e3/19762fdfc62877ae9102edf6342d71b28fbfd9dea3d2f96a882ce099b03f/Keras_Applications-1.0.8-py3-none-any.whl (50kB)\n",
            "\u001b[K     |████████████████████████████████| 51kB 5.2MB/s \n",
            "\u001b[?25hRequirement already satisfied: opt-einsum>=2.3.2 in /usr/local/lib/python3.7/dist-packages (from tensorflow-gpu==2.0.0-rc0) (3.3.0)\n",
            "Requirement already satisfied: keras-preprocessing>=1.0.5 in /usr/local/lib/python3.7/dist-packages (from tensorflow-gpu==2.0.0-rc0) (1.1.2)\n",
            "Requirement already satisfied: markdown>=2.6.8 in /usr/local/lib/python3.7/dist-packages (from tb-nightly<1.15.0a20190807,>=1.15.0a20190806->tensorflow-gpu==2.0.0-rc0) (3.3.4)\n",
            "Requirement already satisfied: setuptools>=41.0.0 in /usr/local/lib/python3.7/dist-packages (from tb-nightly<1.15.0a20190807,>=1.15.0a20190806->tensorflow-gpu==2.0.0-rc0) (56.1.0)\n",
            "Requirement already satisfied: werkzeug>=0.11.15 in /usr/local/lib/python3.7/dist-packages (from tb-nightly<1.15.0a20190807,>=1.15.0a20190806->tensorflow-gpu==2.0.0-rc0) (1.0.1)\n",
            "Requirement already satisfied: h5py in /usr/local/lib/python3.7/dist-packages (from keras-applications>=1.0.8->tensorflow-gpu==2.0.0-rc0) (3.1.0)\n",
            "Requirement already satisfied: importlib-metadata; python_version < \"3.8\" in /usr/local/lib/python3.7/dist-packages (from markdown>=2.6.8->tb-nightly<1.15.0a20190807,>=1.15.0a20190806->tensorflow-gpu==2.0.0-rc0) (4.0.1)\n",
            "Requirement already satisfied: cached-property; python_version < \"3.8\" in /usr/local/lib/python3.7/dist-packages (from h5py->keras-applications>=1.0.8->tensorflow-gpu==2.0.0-rc0) (1.5.2)\n",
            "Requirement already satisfied: typing-extensions>=3.6.4; python_version < \"3.8\" in /usr/local/lib/python3.7/dist-packages (from importlib-metadata; python_version < \"3.8\"->markdown>=2.6.8->tb-nightly<1.15.0a20190807,>=1.15.0a20190806->tensorflow-gpu==2.0.0-rc0) (3.7.4.3)\n",
            "Requirement already satisfied: zipp>=0.5 in /usr/local/lib/python3.7/dist-packages (from importlib-metadata; python_version < \"3.8\"->markdown>=2.6.8->tb-nightly<1.15.0a20190807,>=1.15.0a20190806->tensorflow-gpu==2.0.0-rc0) (3.4.1)\n",
            "Installing collected packages: tb-nightly, tf-estimator-nightly, keras-applications, tensorflow-gpu\n",
            "Successfully installed keras-applications-1.0.8 tb-nightly-1.15.0a20190806 tensorflow-gpu-2.0.0rc0 tf-estimator-nightly-1.14.0.dev2019080601\n"
          ],
          "name": "stdout"
        }
      ]
    },
    {
      "cell_type": "code",
      "metadata": {
        "colab": {
          "base_uri": "https://localhost:8080/"
        },
        "id": "jjChUa5eva5t",
        "outputId": "bbe032de-1bf2-42d6-e113-1d61e1f803cf"
      },
      "source": [
        "!pip install mlxtend==0.17.0"
      ],
      "execution_count": null,
      "outputs": [
        {
          "output_type": "stream",
          "text": [
            "Collecting mlxtend==0.17.0\n",
            "\u001b[?25l  Downloading https://files.pythonhosted.org/packages/52/04/c362f34f666f0ddc7cf593805e64d64fa670ed96fd9302e68549dd48287d/mlxtend-0.17.0-py2.py3-none-any.whl (1.3MB)\n",
            "\r\u001b[K     |▎                               | 10kB 19.9MB/s eta 0:00:01\r\u001b[K     |▌                               | 20kB 27.4MB/s eta 0:00:01\r\u001b[K     |▊                               | 30kB 22.2MB/s eta 0:00:01\r\u001b[K     |█                               | 40kB 18.1MB/s eta 0:00:01\r\u001b[K     |█▎                              | 51kB 15.2MB/s eta 0:00:01\r\u001b[K     |█▌                              | 61kB 14.5MB/s eta 0:00:01\r\u001b[K     |█▊                              | 71kB 13.9MB/s eta 0:00:01\r\u001b[K     |██                              | 81kB 15.1MB/s eta 0:00:01\r\u001b[K     |██▏                             | 92kB 16.5MB/s eta 0:00:01\r\u001b[K     |██▌                             | 102kB 14.3MB/s eta 0:00:01\r\u001b[K     |██▊                             | 112kB 14.3MB/s eta 0:00:01\r\u001b[K     |███                             | 122kB 14.3MB/s eta 0:00:01\r\u001b[K     |███▏                            | 133kB 14.3MB/s eta 0:00:01\r\u001b[K     |███▍                            | 143kB 14.3MB/s eta 0:00:01\r\u001b[K     |███▊                            | 153kB 14.3MB/s eta 0:00:01\r\u001b[K     |████                            | 163kB 14.3MB/s eta 0:00:01\r\u001b[K     |████▏                           | 174kB 14.3MB/s eta 0:00:01\r\u001b[K     |████▍                           | 184kB 14.3MB/s eta 0:00:01\r\u001b[K     |████▊                           | 194kB 14.3MB/s eta 0:00:01\r\u001b[K     |█████                           | 204kB 14.3MB/s eta 0:00:01\r\u001b[K     |█████▏                          | 215kB 14.3MB/s eta 0:00:01\r\u001b[K     |█████▍                          | 225kB 14.3MB/s eta 0:00:01\r\u001b[K     |█████▋                          | 235kB 14.3MB/s eta 0:00:01\r\u001b[K     |██████                          | 245kB 14.3MB/s eta 0:00:01\r\u001b[K     |██████▏                         | 256kB 14.3MB/s eta 0:00:01\r\u001b[K     |██████▍                         | 266kB 14.3MB/s eta 0:00:01\r\u001b[K     |██████▋                         | 276kB 14.3MB/s eta 0:00:01\r\u001b[K     |██████▉                         | 286kB 14.3MB/s eta 0:00:01\r\u001b[K     |███████▏                        | 296kB 14.3MB/s eta 0:00:01\r\u001b[K     |███████▍                        | 307kB 14.3MB/s eta 0:00:01\r\u001b[K     |███████▋                        | 317kB 14.3MB/s eta 0:00:01\r\u001b[K     |███████▉                        | 327kB 14.3MB/s eta 0:00:01\r\u001b[K     |████████                        | 337kB 14.3MB/s eta 0:00:01\r\u001b[K     |████████▍                       | 348kB 14.3MB/s eta 0:00:01\r\u001b[K     |████████▋                       | 358kB 14.3MB/s eta 0:00:01\r\u001b[K     |████████▉                       | 368kB 14.3MB/s eta 0:00:01\r\u001b[K     |█████████                       | 378kB 14.3MB/s eta 0:00:01\r\u001b[K     |█████████▍                      | 389kB 14.3MB/s eta 0:00:01\r\u001b[K     |█████████▋                      | 399kB 14.3MB/s eta 0:00:01\r\u001b[K     |█████████▉                      | 409kB 14.3MB/s eta 0:00:01\r\u001b[K     |██████████                      | 419kB 14.3MB/s eta 0:00:01\r\u001b[K     |██████████▎                     | 430kB 14.3MB/s eta 0:00:01\r\u001b[K     |██████████▋                     | 440kB 14.3MB/s eta 0:00:01\r\u001b[K     |██████████▉                     | 450kB 14.3MB/s eta 0:00:01\r\u001b[K     |███████████                     | 460kB 14.3MB/s eta 0:00:01\r\u001b[K     |███████████▎                    | 471kB 14.3MB/s eta 0:00:01\r\u001b[K     |███████████▌                    | 481kB 14.3MB/s eta 0:00:01\r\u001b[K     |███████████▉                    | 491kB 14.3MB/s eta 0:00:01\r\u001b[K     |████████████                    | 501kB 14.3MB/s eta 0:00:01\r\u001b[K     |████████████▎                   | 512kB 14.3MB/s eta 0:00:01\r\u001b[K     |████████████▌                   | 522kB 14.3MB/s eta 0:00:01\r\u001b[K     |████████████▊                   | 532kB 14.3MB/s eta 0:00:01\r\u001b[K     |█████████████                   | 542kB 14.3MB/s eta 0:00:01\r\u001b[K     |█████████████▎                  | 552kB 14.3MB/s eta 0:00:01\r\u001b[K     |█████████████▌                  | 563kB 14.3MB/s eta 0:00:01\r\u001b[K     |█████████████▊                  | 573kB 14.3MB/s eta 0:00:01\r\u001b[K     |██████████████                  | 583kB 14.3MB/s eta 0:00:01\r\u001b[K     |██████████████▎                 | 593kB 14.3MB/s eta 0:00:01\r\u001b[K     |██████████████▌                 | 604kB 14.3MB/s eta 0:00:01\r\u001b[K     |██████████████▊                 | 614kB 14.3MB/s eta 0:00:01\r\u001b[K     |███████████████                 | 624kB 14.3MB/s eta 0:00:01\r\u001b[K     |███████████████▎                | 634kB 14.3MB/s eta 0:00:01\r\u001b[K     |███████████████▌                | 645kB 14.3MB/s eta 0:00:01\r\u001b[K     |███████████████▊                | 655kB 14.3MB/s eta 0:00:01\r\u001b[K     |████████████████                | 665kB 14.3MB/s eta 0:00:01\r\u001b[K     |████████████████▏               | 675kB 14.3MB/s eta 0:00:01\r\u001b[K     |████████████████▌               | 686kB 14.3MB/s eta 0:00:01\r\u001b[K     |████████████████▊               | 696kB 14.3MB/s eta 0:00:01\r\u001b[K     |█████████████████               | 706kB 14.3MB/s eta 0:00:01\r\u001b[K     |█████████████████▏              | 716kB 14.3MB/s eta 0:00:01\r\u001b[K     |█████████████████▍              | 727kB 14.3MB/s eta 0:00:01\r\u001b[K     |█████████████████▊              | 737kB 14.3MB/s eta 0:00:01\r\u001b[K     |██████████████████              | 747kB 14.3MB/s eta 0:00:01\r\u001b[K     |██████████████████▏             | 757kB 14.3MB/s eta 0:00:01\r\u001b[K     |██████████████████▍             | 768kB 14.3MB/s eta 0:00:01\r\u001b[K     |██████████████████▊             | 778kB 14.3MB/s eta 0:00:01\r\u001b[K     |███████████████████             | 788kB 14.3MB/s eta 0:00:01\r\u001b[K     |███████████████████▏            | 798kB 14.3MB/s eta 0:00:01\r\u001b[K     |███████████████████▍            | 808kB 14.3MB/s eta 0:00:01\r\u001b[K     |███████████████████▋            | 819kB 14.3MB/s eta 0:00:01\r\u001b[K     |████████████████████            | 829kB 14.3MB/s eta 0:00:01\r\u001b[K     |████████████████████▏           | 839kB 14.3MB/s eta 0:00:01\r\u001b[K     |████████████████████▍           | 849kB 14.3MB/s eta 0:00:01\r\u001b[K     |████████████████████▋           | 860kB 14.3MB/s eta 0:00:01\r\u001b[K     |████████████████████▉           | 870kB 14.3MB/s eta 0:00:01\r\u001b[K     |█████████████████████▏          | 880kB 14.3MB/s eta 0:00:01\r\u001b[K     |█████████████████████▍          | 890kB 14.3MB/s eta 0:00:01\r\u001b[K     |█████████████████████▋          | 901kB 14.3MB/s eta 0:00:01\r\u001b[K     |█████████████████████▉          | 911kB 14.3MB/s eta 0:00:01\r\u001b[K     |██████████████████████          | 921kB 14.3MB/s eta 0:00:01\r\u001b[K     |██████████████████████▍         | 931kB 14.3MB/s eta 0:00:01\r\u001b[K     |██████████████████████▋         | 942kB 14.3MB/s eta 0:00:01\r\u001b[K     |██████████████████████▉         | 952kB 14.3MB/s eta 0:00:01\r\u001b[K     |███████████████████████         | 962kB 14.3MB/s eta 0:00:01\r\u001b[K     |███████████████████████▍        | 972kB 14.3MB/s eta 0:00:01\r\u001b[K     |███████████████████████▋        | 983kB 14.3MB/s eta 0:00:01\r\u001b[K     |███████████████████████▉        | 993kB 14.3MB/s eta 0:00:01\r\u001b[K     |████████████████████████        | 1.0MB 14.3MB/s eta 0:00:01\r\u001b[K     |████████████████████████▎       | 1.0MB 14.3MB/s eta 0:00:01\r\u001b[K     |████████████████████████▋       | 1.0MB 14.3MB/s eta 0:00:01\r\u001b[K     |████████████████████████▉       | 1.0MB 14.3MB/s eta 0:00:01\r\u001b[K     |█████████████████████████       | 1.0MB 14.3MB/s eta 0:00:01\r\u001b[K     |█████████████████████████▎      | 1.1MB 14.3MB/s eta 0:00:01\r\u001b[K     |█████████████████████████▌      | 1.1MB 14.3MB/s eta 0:00:01\r\u001b[K     |█████████████████████████▉      | 1.1MB 14.3MB/s eta 0:00:01\r\u001b[K     |██████████████████████████      | 1.1MB 14.3MB/s eta 0:00:01\r\u001b[K     |██████████████████████████▎     | 1.1MB 14.3MB/s eta 0:00:01\r\u001b[K     |██████████████████████████▌     | 1.1MB 14.3MB/s eta 0:00:01\r\u001b[K     |██████████████████████████▊     | 1.1MB 14.3MB/s eta 0:00:01\r\u001b[K     |███████████████████████████     | 1.1MB 14.3MB/s eta 0:00:01\r\u001b[K     |███████████████████████████▎    | 1.1MB 14.3MB/s eta 0:00:01\r\u001b[K     |███████████████████████████▌    | 1.1MB 14.3MB/s eta 0:00:01\r\u001b[K     |███████████████████████████▊    | 1.2MB 14.3MB/s eta 0:00:01\r\u001b[K     |████████████████████████████    | 1.2MB 14.3MB/s eta 0:00:01\r\u001b[K     |████████████████████████████▎   | 1.2MB 14.3MB/s eta 0:00:01\r\u001b[K     |████████████████████████████▌   | 1.2MB 14.3MB/s eta 0:00:01\r\u001b[K     |████████████████████████████▊   | 1.2MB 14.3MB/s eta 0:00:01\r\u001b[K     |█████████████████████████████   | 1.2MB 14.3MB/s eta 0:00:01\r\u001b[K     |█████████████████████████████▎  | 1.2MB 14.3MB/s eta 0:00:01\r\u001b[K     |█████████████████████████████▌  | 1.2MB 14.3MB/s eta 0:00:01\r\u001b[K     |█████████████████████████████▊  | 1.2MB 14.3MB/s eta 0:00:01\r\u001b[K     |██████████████████████████████  | 1.2MB 14.3MB/s eta 0:00:01\r\u001b[K     |██████████████████████████████▏ | 1.3MB 14.3MB/s eta 0:00:01\r\u001b[K     |██████████████████████████████▌ | 1.3MB 14.3MB/s eta 0:00:01\r\u001b[K     |██████████████████████████████▊ | 1.3MB 14.3MB/s eta 0:00:01\r\u001b[K     |███████████████████████████████ | 1.3MB 14.3MB/s eta 0:00:01\r\u001b[K     |███████████████████████████████▏| 1.3MB 14.3MB/s eta 0:00:01\r\u001b[K     |███████████████████████████████▌| 1.3MB 14.3MB/s eta 0:00:01\r\u001b[K     |███████████████████████████████▊| 1.3MB 14.3MB/s eta 0:00:01\r\u001b[K     |████████████████████████████████| 1.3MB 14.3MB/s eta 0:00:01\r\u001b[K     |████████████████████████████████| 1.3MB 14.3MB/s \n",
            "\u001b[?25hRequirement already satisfied: numpy>=1.16.2 in /usr/local/lib/python3.7/dist-packages (from mlxtend==0.17.0) (1.19.5)\n",
            "Requirement already satisfied: scipy>=1.2.1 in /usr/local/lib/python3.7/dist-packages (from mlxtend==0.17.0) (1.4.1)\n",
            "Requirement already satisfied: pandas>=0.24.2 in /usr/local/lib/python3.7/dist-packages (from mlxtend==0.17.0) (1.1.5)\n",
            "Requirement already satisfied: setuptools in /usr/local/lib/python3.7/dist-packages (from mlxtend==0.17.0) (56.1.0)\n",
            "Requirement already satisfied: scikit-learn>=0.20.3 in /usr/local/lib/python3.7/dist-packages (from mlxtend==0.17.0) (0.22.2.post1)\n",
            "Requirement already satisfied: matplotlib>=3.0.0 in /usr/local/lib/python3.7/dist-packages (from mlxtend==0.17.0) (3.2.2)\n",
            "Requirement already satisfied: joblib>=0.13.2 in /usr/local/lib/python3.7/dist-packages (from mlxtend==0.17.0) (1.0.1)\n",
            "Requirement already satisfied: pytz>=2017.2 in /usr/local/lib/python3.7/dist-packages (from pandas>=0.24.2->mlxtend==0.17.0) (2018.9)\n",
            "Requirement already satisfied: python-dateutil>=2.7.3 in /usr/local/lib/python3.7/dist-packages (from pandas>=0.24.2->mlxtend==0.17.0) (2.8.1)\n",
            "Requirement already satisfied: pyparsing!=2.0.4,!=2.1.2,!=2.1.6,>=2.0.1 in /usr/local/lib/python3.7/dist-packages (from matplotlib>=3.0.0->mlxtend==0.17.0) (2.4.7)\n",
            "Requirement already satisfied: kiwisolver>=1.0.1 in /usr/local/lib/python3.7/dist-packages (from matplotlib>=3.0.0->mlxtend==0.17.0) (1.3.1)\n",
            "Requirement already satisfied: cycler>=0.10 in /usr/local/lib/python3.7/dist-packages (from matplotlib>=3.0.0->mlxtend==0.17.0) (0.10.0)\n",
            "Requirement already satisfied: six>=1.5 in /usr/local/lib/python3.7/dist-packages (from python-dateutil>=2.7.3->pandas>=0.24.2->mlxtend==0.17.0) (1.15.0)\n",
            "Installing collected packages: mlxtend\n",
            "  Found existing installation: mlxtend 0.14.0\n",
            "    Uninstalling mlxtend-0.14.0:\n",
            "      Successfully uninstalled mlxtend-0.14.0\n",
            "Successfully installed mlxtend-0.17.0\n"
          ],
          "name": "stdout"
        }
      ]
    },
    {
      "cell_type": "code",
      "metadata": {
        "id": "LyqDhzkVv3PV"
      },
      "source": [
        "import tensorflow as tf\n",
        "from tensorflow.keras import Sequential\n",
        "from tensorflow.keras.layers import Flatten, Dense,Conv2D, MaxPool2D, Dropout"
      ],
      "execution_count": null,
      "outputs": []
    },
    {
      "cell_type": "code",
      "metadata": {
        "colab": {
          "base_uri": "https://localhost:8080/"
        },
        "id": "Ipf89yxH18t6",
        "outputId": "d3337f1f-24ec-4707-a2f1-effcf7b3654b"
      },
      "source": [
        "print(tf.__version__)"
      ],
      "execution_count": null,
      "outputs": [
        {
          "output_type": "stream",
          "text": [
            "2.5.0\n"
          ],
          "name": "stdout"
        }
      ]
    },
    {
      "cell_type": "code",
      "metadata": {
        "id": "_x9gLBWN2BAZ"
      },
      "source": [
        "import numpy as np\n",
        "import matplotlib.pyplot as plt\n",
        "import matplotlib"
      ],
      "execution_count": null,
      "outputs": []
    },
    {
      "cell_type": "markdown",
      "metadata": {
        "id": "fI4TtX8m3R0Y"
      },
      "source": [
        "## Load Dataset"
      ]
    },
    {
      "cell_type": "code",
      "metadata": {
        "id": "r0GBEQFm3WXs"
      },
      "source": [
        "from tensorflow.keras.datasets import cifar10"
      ],
      "execution_count": null,
      "outputs": []
    },
    {
      "cell_type": "code",
      "metadata": {
        "colab": {
          "base_uri": "https://localhost:8080/"
        },
        "id": "I4Vpro2W3efR",
        "outputId": "90b68072-4bf0-4f8e-df51-4a222f999584"
      },
      "source": [
        "(X_train,y_train),(X_test,y_test)=cifar10.load_data()"
      ],
      "execution_count": null,
      "outputs": [
        {
          "output_type": "stream",
          "text": [
            "Downloading data from https://www.cs.toronto.edu/~kriz/cifar-10-python.tar.gz\n",
            "170500096/170498071 [==============================] - 4s 0us/step\n"
          ],
          "name": "stdout"
        }
      ]
    },
    {
      "cell_type": "code",
      "metadata": {
        "id": "JuHlE4OI3pwM"
      },
      "source": [
        "class_name=['airplane','automobile','bird','cat','deer','dog','frog','horse','ship','truck']"
      ],
      "execution_count": null,
      "outputs": []
    },
    {
      "cell_type": "code",
      "metadata": {
        "colab": {
          "base_uri": "https://localhost:8080/"
        },
        "id": "epSpgXJu4CWH",
        "outputId": "a3db02ee-f420-4151-e30b-0c2ea8749ede"
      },
      "source": [
        "X_train.max()"
      ],
      "execution_count": null,
      "outputs": [
        {
          "output_type": "execute_result",
          "data": {
            "text/plain": [
              "255"
            ]
          },
          "metadata": {
            "tags": []
          },
          "execution_count": 7
        }
      ]
    },
    {
      "cell_type": "code",
      "metadata": {
        "id": "-7xvcqD04JBp"
      },
      "source": [
        "X_train=X_train/255\n",
        "X_test=X_test/255"
      ],
      "execution_count": null,
      "outputs": []
    },
    {
      "cell_type": "code",
      "metadata": {
        "colab": {
          "base_uri": "https://localhost:8080/"
        },
        "id": "Uk1wQxy54GGx",
        "outputId": "acb2c066-74de-4789-8ccc-d4980f820fd8"
      },
      "source": [
        "X_train.shape"
      ],
      "execution_count": null,
      "outputs": [
        {
          "output_type": "execute_result",
          "data": {
            "text/plain": [
              "(50000, 32, 32, 3)"
            ]
          },
          "metadata": {
            "tags": []
          },
          "execution_count": 9
        }
      ]
    },
    {
      "cell_type": "code",
      "metadata": {
        "colab": {
          "base_uri": "https://localhost:8080/"
        },
        "id": "zrLlVJvS4SZF",
        "outputId": "7e03c703-a610-4828-fa02-408348b32c74"
      },
      "source": [
        "X_test.shape"
      ],
      "execution_count": null,
      "outputs": [
        {
          "output_type": "execute_result",
          "data": {
            "text/plain": [
              "(10000, 32, 32, 3)"
            ]
          },
          "metadata": {
            "tags": []
          },
          "execution_count": 10
        }
      ]
    },
    {
      "cell_type": "code",
      "metadata": {
        "colab": {
          "base_uri": "https://localhost:8080/",
          "height": 284
        },
        "id": "ADR6aXIf4U8n",
        "outputId": "ac1af7d9-e4c2-437a-ac6b-9f13fa8a69be"
      },
      "source": [
        "plt.imshow(X_test[0])"
      ],
      "execution_count": null,
      "outputs": [
        {
          "output_type": "execute_result",
          "data": {
            "text/plain": [
              "<matplotlib.image.AxesImage at 0x7fe9bfb3e990>"
            ]
          },
          "metadata": {
            "tags": []
          },
          "execution_count": 11
        },
        {
          "output_type": "display_data",
          "data": {
            "image/png": "[encoded data removed]",
            "text/plain": [
              "<Figure size 432x288 with 1 Axes>"
            ]
          },
          "metadata": {
            "tags": [],
            "needs_background": "light"
          }
        }
      ]
    },
    {
      "cell_type": "code",
      "metadata": {
        "colab": {
          "base_uri": "https://localhost:8080/"
        },
        "id": "z0rQxh1j4kaL",
        "outputId": "766dd3ba-a78f-40e4-c875-ab4d8ae36063"
      },
      "source": [
        "y_test"
      ],
      "execution_count": null,
      "outputs": [
        {
          "output_type": "execute_result",
          "data": {
            "text/plain": [
              "array([[3],\n",
              "       [8],\n",
              "       [8],\n",
              "       ...,\n",
              "       [5],\n",
              "       [1],\n",
              "       [7]], dtype=uint8)"
            ]
          },
          "metadata": {
            "tags": []
          },
          "execution_count": 12
        }
      ]
    },
    {
      "cell_type": "code",
      "metadata": {
        "id": "DZWLg64TpulE"
      },
      "source": [
        "from tensorflow.keras.layers import BatchNormalization\n"
      ],
      "execution_count": null,
      "outputs": []
    },
    {
      "cell_type": "code",
      "metadata": {
        "id": "Oonk84g34oEz"
      },
      "source": [
        "model=Sequential()\n",
        "model.add(Conv2D(filters=32, kernel_size=(3,3), padding='same', activation='relu', input_shape=[32,32,3]))\n",
        "model.add(BatchNormalization())\n",
        "model.add(Conv2D(filters=32, kernel_size=(3,3), padding='same', activation='relu'))\n",
        "model.add(BatchNormalization())\n",
        "model.add(MaxPool2D(pool_size=(2,2), strides=2, padding='valid'))\n",
        "model.add(Dropout(0.2))\n",
        "model.add(Conv2D(filters=64, kernel_size=(3,3), padding='same', activation='relu'))\n",
        "model.add(BatchNormalization())\n",
        "model.add(Conv2D(filters=64, kernel_size=(3,3), padding='same', activation='relu'))\n",
        "model.add(BatchNormalization())\n",
        "model.add(MaxPool2D(pool_size=(2,2), strides=2, padding='valid'))\n",
        "model.add(Dropout(0.2))\n",
        "\n",
        "model.add(Flatten())\n",
        "model.add(Dense(units=128, activation='relu'))\n",
        "model.add(Dense(units=10, activation='softmax'))"
      ],
      "execution_count": null,
      "outputs": []
    },
    {
      "cell_type": "code",
      "metadata": {
        "colab": {
          "base_uri": "https://localhost:8080/"
        },
        "id": "DZEpp4OACO17",
        "outputId": "b2bf04bd-f14a-4a79-97c9-bf000efd7501"
      },
      "source": [
        "model.summary()"
      ],
      "execution_count": null,
      "outputs": [
        {
          "output_type": "stream",
          "text": [
            "Model: \"sequential\"\n",
            "_________________________________________________________________\n",
            "Layer (type)                 Output Shape              Param #   \n",
            "=================================================================\n",
            "conv2d (Conv2D)              (None, 32, 32, 32)        896       \n",
            "_________________________________________________________________\n",
            "batch_normalization (BatchNo (None, 32, 32, 32)        128       \n",
            "_________________________________________________________________\n",
            "conv2d_1 (Conv2D)            (None, 32, 32, 32)        9248      \n",
            "_________________________________________________________________\n",
            "batch_normalization_1 (Batch (None, 32, 32, 32)        128       \n",
            "_________________________________________________________________\n",
            "max_pooling2d (MaxPooling2D) (None, 16, 16, 32)        0         \n",
            "_________________________________________________________________\n",
            "dropout (Dropout)            (None, 16, 16, 32)        0         \n",
            "_________________________________________________________________\n",
            "conv2d_2 (Conv2D)            (None, 16, 16, 64)        18496     \n",
            "_________________________________________________________________\n",
            "batch_normalization_2 (Batch (None, 16, 16, 64)        256       \n",
            "_________________________________________________________________\n",
            "conv2d_3 (Conv2D)            (None, 16, 16, 64)        36928     \n",
            "_________________________________________________________________\n",
            "batch_normalization_3 (Batch (None, 16, 16, 64)        256       \n",
            "_________________________________________________________________\n",
            "max_pooling2d_1 (MaxPooling2 (None, 8, 8, 64)          0         \n",
            "_________________________________________________________________\n",
            "dropout_1 (Dropout)          (None, 8, 8, 64)          0         \n",
            "_________________________________________________________________\n",
            "flatten (Flatten)            (None, 4096)              0         \n",
            "_________________________________________________________________\n",
            "dense (Dense)                (None, 128)               524416    \n",
            "_________________________________________________________________\n",
            "dense_1 (Dense)              (None, 10)                1290      \n",
            "=================================================================\n",
            "Total params: 592,042\n",
            "Trainable params: 591,658\n",
            "Non-trainable params: 384\n",
            "_________________________________________________________________\n"
          ],
          "name": "stdout"
        }
      ]
    },
    {
      "cell_type": "code",
      "metadata": {
        "id": "OcFfUrp7Czb0"
      },
      "source": [
        "model.compile(optimizer='adam', loss='sparse_categorical_crossentropy', metrics=['sparse_categorical_accuracy'])"
      ],
      "execution_count": null,
      "outputs": []
    },
    {
      "cell_type": "code",
      "metadata": {
        "colab": {
          "base_uri": "https://localhost:8080/"
        },
        "id": "yy9p8_PaDV5g",
        "outputId": "c61ca748-7f12-4245-c6b1-714ce6922d42"
      },
      "source": [
        "history=model.fit(X_train, y_train, batch_size=35, epochs=10, validation_data=(X_test, y_test))"
      ],
      "execution_count": null,
      "outputs": [
        {
          "output_type": "stream",
          "text": [
            "Epoch 1/10\n",
            "1429/1429 [==============================] - 41s 6ms/step - loss: 1.3062 - sparse_categorical_accuracy: 0.5380 - val_loss: 1.1443 - val_sparse_categorical_accuracy: 0.6063\n",
            "Epoch 2/10\n",
            "1429/1429 [==============================] - 9s 6ms/step - loss: 0.8643 - sparse_categorical_accuracy: 0.6973 - val_loss: 0.7802 - val_sparse_categorical_accuracy: 0.7294\n",
            "Epoch 3/10\n",
            "1429/1429 [==============================] - 8s 6ms/step - loss: 0.7264 - sparse_categorical_accuracy: 0.7464 - val_loss: 0.7729 - val_sparse_categorical_accuracy: 0.7326\n",
            "Epoch 4/10\n",
            "1429/1429 [==============================] - 8s 6ms/step - loss: 0.6358 - sparse_categorical_accuracy: 0.7786 - val_loss: 0.7466 - val_sparse_categorical_accuracy: 0.7431\n",
            "Epoch 5/10\n",
            "1429/1429 [==============================] - 8s 6ms/step - loss: 0.5589 - sparse_categorical_accuracy: 0.8059 - val_loss: 0.6697 - val_sparse_categorical_accuracy: 0.7729\n",
            "Epoch 6/10\n",
            "1429/1429 [==============================] - 8s 6ms/step - loss: 0.5007 - sparse_categorical_accuracy: 0.8251 - val_loss: 0.7061 - val_sparse_categorical_accuracy: 0.7714\n",
            "Epoch 7/10\n",
            "1429/1429 [==============================] - 8s 6ms/step - loss: 0.4426 - sparse_categorical_accuracy: 0.8457 - val_loss: 0.7291 - val_sparse_categorical_accuracy: 0.7610\n",
            "Epoch 8/10\n",
            "1429/1429 [==============================] - 8s 6ms/step - loss: 0.3948 - sparse_categorical_accuracy: 0.8615 - val_loss: 0.7451 - val_sparse_categorical_accuracy: 0.7753\n",
            "Epoch 9/10\n",
            "1429/1429 [==============================] - 8s 6ms/step - loss: 0.3536 - sparse_categorical_accuracy: 0.8773 - val_loss: 0.7160 - val_sparse_categorical_accuracy: 0.7846\n",
            "Epoch 10/10\n",
            "1429/1429 [==============================] - 8s 6ms/step - loss: 0.3182 - sparse_categorical_accuracy: 0.8870 - val_loss: 0.7437 - val_sparse_categorical_accuracy: 0.7793\n"
          ],
          "name": "stdout"
        }
      ]
    },
    {
      "cell_type": "code",
      "metadata": {
        "colab": {
          "base_uri": "https://localhost:8080/"
        },
        "id": "rquPvWPlmLIj",
        "outputId": "a240e14b-cb42-40ec-ebd4-35c2af95e3e2"
      },
      "source": [
        "test_loss, test_accuracy = model.evaluate(X_test,y_test)"
      ],
      "execution_count": null,
      "outputs": [
        {
          "output_type": "stream",
          "text": [
            "313/313 [==============================] - 1s 3ms/step - loss: 0.7437 - sparse_categorical_accuracy: 0.7793\n"
          ],
          "name": "stdout"
        }
      ]
    },
    {
      "cell_type": "code",
      "metadata": {
        "colab": {
          "base_uri": "https://localhost:8080/",
          "height": 295
        },
        "id": "DRPIPi6eDn89",
        "outputId": "657ba2b9-e64c-40b8-d92a-5faf65bd91ed"
      },
      "source": [
        "epoch_range=range(1, 11)\n",
        "plt.plot(epoch_range, history.history['sparse_categorical_accuracy'])\n",
        "plt.plot(epoch_range, history.history['val_sparse_categorical_accuracy'])\n",
        "plt.title('Model Accuracy')\n",
        "plt.ylabel('val Accuracy')\n",
        "plt.xlabel('Epoch')\n",
        "plt.legend(['train','val'], loc='upper left')\n",
        "plt.show()\n",
        "\n"
      ],
      "execution_count": null,
      "outputs": [
        {
          "output_type": "display_data",
          "data": {
            "image/png": "[encoded data removed]",
            "text/plain": [
              "<Figure size 432x288 with 1 Axes>"
            ]
          },
          "metadata": {
            "tags": [],
            "needs_background": "light"
          }
        }
      ]
    },
    {
      "cell_type": "code",
      "metadata": {
        "id": "CvqENELMEyRo"
      },
      "source": [
        "from mlxtend.plotting import plot_confusion_matrix\n",
        "from sklearn.metrics import confusion_matrix"
      ],
      "execution_count": null,
      "outputs": []
    },
    {
      "cell_type": "code",
      "metadata": {
        "id": "hKXmQBZiFdVp",
        "colab": {
          "base_uri": "https://localhost:8080/"
        },
        "outputId": "a43081d3-ef83-4520-ce1e-36e3fc8ada84"
      },
      "source": [
        "y_pred=model.predict_classes(X_test)"
      ],
      "execution_count": null,
      "outputs": [
        {
          "output_type": "stream",
          "text": [
            "/usr/local/lib/python3.7/dist-packages/tensorflow/python/keras/engine/sequential.py:455: UserWarning: `model.predict_classes()` is deprecated and will be removed after 2021-01-01. Please use instead:* `np.argmax(model.predict(x), axis=-1)`,   if your model does multi-class classification   (e.g. if it uses a `softmax` last-layer activation).* `(model.predict(x) > 0.5).astype(\"int32\")`,   if your model does binary classification   (e.g. if it uses a `sigmoid` last-layer activation).\n",
            "  warnings.warn('`model.predict_classes()` is deprecated and '\n"
          ],
          "name": "stderr"
        }
      ]
    },
    {
      "cell_type": "code",
      "metadata": {
        "colab": {
          "base_uri": "https://localhost:8080/"
        },
        "id": "cDuRF952FnyC",
        "outputId": "54f64d52-dbde-47dd-d42e-61d548d8bcc0"
      },
      "source": [
        "y_pred"
      ],
      "execution_count": null,
      "outputs": [
        {
          "output_type": "execute_result",
          "data": {
            "text/plain": [
              "array([3, 8, 8, ..., 5, 0, 7])"
            ]
          },
          "metadata": {
            "tags": []
          },
          "execution_count": 22
        }
      ]
    },
    {
      "cell_type": "code",
      "metadata": {
        "colab": {
          "base_uri": "https://localhost:8080/"
        },
        "id": "Exoux-2zFsQD",
        "outputId": "0133d849-6f94-4f1d-b566-16606bf35599"
      },
      "source": [
        "y_test"
      ],
      "execution_count": null,
      "outputs": [
        {
          "output_type": "execute_result",
          "data": {
            "text/plain": [
              "array([[3],\n",
              "       [8],\n",
              "       [8],\n",
              "       ...,\n",
              "       [5],\n",
              "       [1],\n",
              "       [7]], dtype=uint8)"
            ]
          },
          "metadata": {
            "tags": []
          },
          "execution_count": 23
        }
      ]
    },
    {
      "cell_type": "code",
      "metadata": {
        "id": "AE1RPYL0Ft8c"
      },
      "source": [
        "mat=confusion_matrix(y_test, y_pred)"
      ],
      "execution_count": null,
      "outputs": []
    },
    {
      "cell_type": "code",
      "metadata": {
        "colab": {
          "base_uri": "https://localhost:8080/",
          "height": 423
        },
        "id": "uyORwW_pF2vr",
        "outputId": "2bf06868-c40f-4e30-e737-1aece0abbd59"
      },
      "source": [
        "plot_confusion_matrix(mat, figsize=(6,6), show_normed=True)"
      ],
      "execution_count": null,
      "outputs": [
        {
          "output_type": "execute_result",
          "data": {
            "text/plain": [
              "(<Figure size 432x432 with 1 Axes>,\n",
              " <matplotlib.axes._subplots.AxesSubplot at 0x7fe8ca708250>)"
            ]
          },
          "metadata": {
            "tags": []
          },
          "execution_count": 25
        },
        {
          "output_type": "display_data",
          "data": {
            "image/png": "[encoded data removed]",
            "text/plain": [
              "<Figure size 432x432 with 1 Axes>"
            ]
          },
          "metadata": {
            "tags": [],
            "needs_background": "light"
          }
        }
      ]
    },
    {
      "cell_type": "code",
      "metadata": {
        "id": "mPldVpDRn5SQ"
      },
      "source": [
        "model.save(\"Cifar-10 model.h5\")"
      ],
      "execution_count": null,
      "outputs": []
    },
    {
      "cell_type": "code",
      "metadata": {
        "id": "iSLeVEJtn_eG"
      },
      "source": [
        "import pickle\n",
        "with open('models.pickle', 'wb') as f:\n",
        "    pickle.dump(history.history, f)"
      ],
      "execution_count": null,
      "outputs": []
    },
    {
      "cell_type": "code",
      "metadata": {
        "id": "AnG3uHlKq6L8"
      },
      "source": [
        ""
      ],
      "execution_count": null,
      "outputs": []
    }
  ]
}